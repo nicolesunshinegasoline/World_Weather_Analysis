{
 "cells": [
  {
   "cell_type": "code",
   "execution_count": 1,
   "id": "03953800",
   "metadata": {},
   "outputs": [],
   "source": [
    "# Import the random module.\n",
    "# type randome. and after the period press tab to see available functions\n",
    "import random"
   ]
  },
  {
   "cell_type": "code",
   "execution_count": 2,
   "id": "909a35c6",
   "metadata": {},
   "outputs": [],
   "source": [
    "# type randome. and after the period press tab to see available functions"
   ]
  },
  {
   "cell_type": "code",
   "execution_count": 3,
   "id": "a1463e73",
   "metadata": {},
   "outputs": [
    {
     "data": {
      "text/plain": [
       "[9.342741435486174,\n",
       " 16.75052709103049,\n",
       " 44.57935781003238,\n",
       " 15.059169483984642,\n",
       " -47.84296598885912,\n",
       " -89.14308213756163,\n",
       " 42.02769784674014,\n",
       " 26.58155642461319,\n",
       " -58.03942124307631,\n",
       " -15.64136691411446]"
      ]
     },
     "execution_count": 3,
     "metadata": {},
     "output_type": "execute_result"
    }
   ],
   "source": [
    "# Use two functions to write an algorithm that will generate latitudes between –90 and 89. \n",
    "x = 1\n",
    "latitudes = []\n",
    "while x < 11:\n",
    "    random_lat = random.randint(-90, 89) + random.random()\n",
    "    latitudes.append(random_lat)\n",
    "    x += 1\n",
    "    \n",
    "latitudes"
   ]
  },
  {
   "cell_type": "code",
   "execution_count": 4,
   "id": "d69584c6",
   "metadata": {},
   "outputs": [],
   "source": [
    "# Import the NumPy module.\n",
    "import numpy as np"
   ]
  },
  {
   "cell_type": "markdown",
   "id": "f2bc6bf1",
   "metadata": {},
   "source": [
    "##### Note\n",
    "The NumPy module has a built-in random module, and supplements the built-in Python random module. There is no need to import the random module if we import the NumPy module, as it's redundant."
   ]
  },
  {
   "cell_type": "code",
   "execution_count": 5,
   "id": "08c4909c",
   "metadata": {},
   "outputs": [
    {
     "data": {
      "text/plain": [
       "54.389363915644594"
      ]
     },
     "execution_count": 5,
     "metadata": {},
     "output_type": "execute_result"
    }
   ],
   "source": [
    "# option 1\n",
    "np.random.uniform(-90.000, 90.000)"
   ]
  },
  {
   "cell_type": "code",
   "execution_count": 6,
   "id": "f4c220b5",
   "metadata": {},
   "outputs": [
    {
     "data": {
      "text/plain": [
       "-39.55620307640566"
      ]
     },
     "execution_count": 6,
     "metadata": {},
     "output_type": "execute_result"
    }
   ],
   "source": [
    "# option 2\n",
    "np.random.uniform(low=-90, high=90)"
   ]
  },
  {
   "cell_type": "code",
   "execution_count": 7,
   "id": "03d011c3",
   "metadata": {},
   "outputs": [
    {
     "data": {
      "text/plain": [
       "array([ 30.87673589,  55.98611333,  76.22734515,  32.61396663,\n",
       "       -82.16043172,  15.21334179,  39.06272603,  81.57299754,\n",
       "       -40.04575708,  21.83047581, -24.474506  ,  41.87544146,\n",
       "        21.41095236,  88.04007888, -32.88586948,  86.97530468,\n",
       "       -60.5837571 , -59.88068036,  17.05342878, -78.37362004,\n",
       "        -0.86020064,  23.07677959,  42.60132093,  14.30479997,\n",
       "        50.12554985,  51.68863739, -79.5619094 ,  35.47592986,\n",
       "        79.77699906,  19.68880036,  45.69192734, -88.64615797,\n",
       "       -73.13949984,  13.21913826,  67.90665744, -14.45380864,\n",
       "       -46.54496582,  89.59777145, -76.2045292 ,  15.79365009,\n",
       "        -4.4913325 , -46.15716452,  21.43453712,  55.44396969,\n",
       "       -32.39214364, -54.0156742 ,  58.80653295,  48.83327701,\n",
       "       -54.99200279, -79.59718095])"
      ]
     },
     "execution_count": 7,
     "metadata": {},
     "output_type": "execute_result"
    }
   ],
   "source": [
    "# test\n",
    "np.random.uniform(-90.000, 90.000, size=50)"
   ]
  },
  {
   "cell_type": "code",
   "execution_count": 11,
   "id": "3319e6ab",
   "metadata": {},
   "outputs": [],
   "source": [
    "# Import timeit.\n",
    "import timeit"
   ]
  },
  {
   "cell_type": "code",
   "execution_count": 12,
   "id": "01af4c43",
   "metadata": {},
   "outputs": [
    {
     "name": "stdout",
     "output_type": "stream",
     "text": [
      "13.1 µs ± 274 ns per loop (mean ± std. dev. of 7 runs, 100000 loops each)\n"
     ]
    }
   ],
   "source": [
    "%timeit np.random.uniform(-90.000, 90.000, size=1500)"
   ]
  },
  {
   "cell_type": "code",
   "execution_count": 14,
   "id": "48bb16e1",
   "metadata": {},
   "outputs": [
    {
     "name": "stdout",
     "output_type": "stream",
     "text": [
      "1.42 ms ± 43.5 µs per loop (mean ± std. dev. of 7 runs, 1000 loops each)\n"
     ]
    }
   ],
   "source": [
    "# Now, let's run the while loop as a function.\n",
    "def latitudes(size):\n",
    "    latitudes = []\n",
    "    x = 0\n",
    "    while x < (size):\n",
    "        random_lat = random.randint(-90, 90) + random.random()\n",
    "        latitudes.append(random_lat)\n",
    "        x += 1\n",
    "    return latitudes\n",
    "# Call the function with 1500.\n",
    "%timeit latitudes(1500)"
   ]
  },
  {
   "cell_type": "markdown",
   "id": "87ff9a27",
   "metadata": {},
   "source": [
    "#### Note\n",
    "Using the np.random.uniform(-90.000, 90.000, size=1500) is 100 times faster than using the function, and our code is one line, whereas the function uses eight lines!"
   ]
  },
  {
   "cell_type": "markdown",
   "id": "4eac0c2a",
   "metadata": {},
   "source": [
    "### Create Latitude and Longitude Combinations"
   ]
  },
  {
   "cell_type": "code",
   "execution_count": 15,
   "id": "5c84efe3",
   "metadata": {},
   "outputs": [],
   "source": [
    "# Import the dependencies.\n",
    "import pandas as pd\n",
    "import matplotlib.pyplot as plt\n",
    "import numpy as np"
   ]
  },
  {
   "cell_type": "code",
   "execution_count": 16,
   "id": "80d29b36",
   "metadata": {},
   "outputs": [
    {
     "data": {
      "text/plain": [
       "<zip at 0x7f920c4abf00>"
      ]
     },
     "execution_count": 16,
     "metadata": {},
     "output_type": "execute_result"
    }
   ],
   "source": [
    "# Create a set of random latitude and longitude combinations.\n",
    "lats = np.random.uniform(low=-90.000, high=90.000, size=1500)\n",
    "lngs = np.random.uniform(low=-180.000, high=180.000, size=1500)\n",
    "lat_lngs = zip(lats, lngs)\n",
    "lat_lngs"
   ]
  },
  {
   "cell_type": "code",
   "execution_count": 17,
   "id": "c70d0be1",
   "metadata": {},
   "outputs": [],
   "source": [
    "# Create a practice set of random latitude and longitude combinations.\n",
    "x = [25.12903645, 25.92017388, 26.62509167, -59.98969384, 37.30571269]\n",
    "y = [-67.59741259, 11.09532135, 74.84233102, -76.89176677, -61.13376282]\n",
    "coordinates = zip(x, y)"
   ]
  },
  {
   "cell_type": "code",
   "execution_count": null,
   "id": "49ce8a4f",
   "metadata": {},
   "outputs": [],
   "source": []
  }
 ],
 "metadata": {
  "kernelspec": {
   "display_name": "PythonData",
   "language": "python",
   "name": "pythondata"
  },
  "language_info": {
   "codemirror_mode": {
    "name": "ipython",
    "version": 3
   },
   "file_extension": ".py",
   "mimetype": "text/x-python",
   "name": "python",
   "nbconvert_exporter": "python",
   "pygments_lexer": "ipython3",
   "version": "3.9.7"
  }
 },
 "nbformat": 4,
 "nbformat_minor": 5
}
